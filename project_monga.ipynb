{
 "cells": [
  {
   "cell_type": "markdown",
   "metadata": {},
   "source": [
    "## I am using the Canadian Car Accidents  data from year 1994-2014 from www.kaggle.com. The following are the columns name in the data set\n",
    "##### C_YEAR  - Year                                         \n",
    "#####  V_ID - Vehicle Sequence number\n",
    "#####  V_TYPE - Vehicle Type\n",
    "#####  V_YEAR - Vehicle model Year\n",
    "#####  P_ID - Person Sequemce number\n",
    "#####  P_SEX - Person sex\n",
    "#####  P_AGE - Person age\n",
    "#####  P_PSN - Person Position\n",
    "#####  P_ISEV - Medical Treatment Required\n",
    "##### P_SAFE - Safety device used\n",
    "##### P_USER - Road user Class\n",
    "#####  C_TRAF - Traffic Control\n",
    "##### C_MNTH - Month\n",
    "#####  C_WDAY - Day of week\n",
    "#####  C_HOUR - Collison hour\n",
    "#####  C_SEV - Collison Severity\n",
    "#####  C_VEHS - Number of Vehicles involved in collison\n",
    "#####  C_CONF - Collison configuration\n",
    "#####  C_RCFG - Roadway configuration\n",
    "#####  C_WTHR - Weather Condition\n",
    "#####  C_RSUR -  Road Surface\n",
    "#####  C_RALN - Road Alignment\n",
    "\n",
    "\n"
   ]
  },
  {
   "cell_type": "code",
   "execution_count": 47,
   "metadata": {},
   "outputs": [],
   "source": [
    "import pandas as pd\n",
    "import numpy as np\n",
    "import matplotlib as mpl\n",
    "import matplotlib.pyplot as plt\n",
    "#import seaborn as sns\n",
    "\n",
    "from sklearn.cluster import KMeans    # for k-means clustering\n",
    "\n",
    "\n",
    "from sklearn.preprocessing import scale\n",
    "\n",
    "%matplotlib inline\n",
    "plt.style.use('seaborn-white')"
   ]
  },
  {
   "cell_type": "code",
   "execution_count": 48,
   "metadata": {},
   "outputs": [
    {
     "name": "stderr",
     "output_type": "stream",
     "text": [
      "/opt/anaconda2/envs/py36/lib/python3.6/site-packages/IPython/core/interactiveshell.py:2785: DtypeWarning: Columns (1,2,12) have mixed types. Specify dtype option on import or set low_memory=False.\n",
      "  interactivity=interactivity, compiler=compiler, result=result)\n"
     ]
    },
    {
     "data": {
      "text/html": [
       "<div>\n",
       "<style scoped>\n",
       "    .dataframe tbody tr th:only-of-type {\n",
       "        vertical-align: middle;\n",
       "    }\n",
       "\n",
       "    .dataframe tbody tr th {\n",
       "        vertical-align: top;\n",
       "    }\n",
       "\n",
       "    .dataframe thead th {\n",
       "        text-align: right;\n",
       "    }\n",
       "</style>\n",
       "<table border=\"1\" class=\"dataframe\">\n",
       "  <thead>\n",
       "    <tr style=\"text-align: right;\">\n",
       "      <th></th>\n",
       "      <th>C_YEAR</th>\n",
       "      <th>C_MNTH</th>\n",
       "      <th>C_WDAY</th>\n",
       "      <th>C_HOUR</th>\n",
       "      <th>C_SEV</th>\n",
       "      <th>C_VEHS</th>\n",
       "      <th>C_CONF</th>\n",
       "      <th>C_RCFG</th>\n",
       "      <th>C_WTHR</th>\n",
       "      <th>C_RSUR</th>\n",
       "      <th>...</th>\n",
       "      <th>V_ID</th>\n",
       "      <th>V_TYPE</th>\n",
       "      <th>V_YEAR</th>\n",
       "      <th>P_ID</th>\n",
       "      <th>P_SEX</th>\n",
       "      <th>P_AGE</th>\n",
       "      <th>P_PSN</th>\n",
       "      <th>P_ISEV</th>\n",
       "      <th>P_SAFE</th>\n",
       "      <th>P_USER</th>\n",
       "    </tr>\n",
       "  </thead>\n",
       "  <tbody>\n",
       "    <tr>\n",
       "      <th>0</th>\n",
       "      <td>1999</td>\n",
       "      <td>1</td>\n",
       "      <td>1</td>\n",
       "      <td>20</td>\n",
       "      <td>2</td>\n",
       "      <td>2</td>\n",
       "      <td>34</td>\n",
       "      <td>UU</td>\n",
       "      <td>1</td>\n",
       "      <td>5</td>\n",
       "      <td>...</td>\n",
       "      <td>1</td>\n",
       "      <td>6</td>\n",
       "      <td>1990</td>\n",
       "      <td>1</td>\n",
       "      <td>M</td>\n",
       "      <td>41</td>\n",
       "      <td>11</td>\n",
       "      <td>1</td>\n",
       "      <td>UU</td>\n",
       "      <td>1</td>\n",
       "    </tr>\n",
       "    <tr>\n",
       "      <th>1</th>\n",
       "      <td>1999</td>\n",
       "      <td>1</td>\n",
       "      <td>1</td>\n",
       "      <td>20</td>\n",
       "      <td>2</td>\n",
       "      <td>2</td>\n",
       "      <td>34</td>\n",
       "      <td>UU</td>\n",
       "      <td>1</td>\n",
       "      <td>5</td>\n",
       "      <td>...</td>\n",
       "      <td>2</td>\n",
       "      <td>1</td>\n",
       "      <td>1987</td>\n",
       "      <td>1</td>\n",
       "      <td>M</td>\n",
       "      <td>19</td>\n",
       "      <td>11</td>\n",
       "      <td>1</td>\n",
       "      <td>UU</td>\n",
       "      <td>1</td>\n",
       "    </tr>\n",
       "    <tr>\n",
       "      <th>2</th>\n",
       "      <td>1999</td>\n",
       "      <td>1</td>\n",
       "      <td>1</td>\n",
       "      <td>20</td>\n",
       "      <td>2</td>\n",
       "      <td>2</td>\n",
       "      <td>34</td>\n",
       "      <td>UU</td>\n",
       "      <td>1</td>\n",
       "      <td>5</td>\n",
       "      <td>...</td>\n",
       "      <td>2</td>\n",
       "      <td>1</td>\n",
       "      <td>1987</td>\n",
       "      <td>2</td>\n",
       "      <td>F</td>\n",
       "      <td>20</td>\n",
       "      <td>13</td>\n",
       "      <td>2</td>\n",
       "      <td>2</td>\n",
       "      <td>2</td>\n",
       "    </tr>\n",
       "    <tr>\n",
       "      <th>3</th>\n",
       "      <td>1999</td>\n",
       "      <td>1</td>\n",
       "      <td>1</td>\n",
       "      <td>8</td>\n",
       "      <td>2</td>\n",
       "      <td>1</td>\n",
       "      <td>1</td>\n",
       "      <td>UU</td>\n",
       "      <td>5</td>\n",
       "      <td>3</td>\n",
       "      <td>...</td>\n",
       "      <td>1</td>\n",
       "      <td>1</td>\n",
       "      <td>1986</td>\n",
       "      <td>1</td>\n",
       "      <td>M</td>\n",
       "      <td>46</td>\n",
       "      <td>11</td>\n",
       "      <td>1</td>\n",
       "      <td>UU</td>\n",
       "      <td>1</td>\n",
       "    </tr>\n",
       "    <tr>\n",
       "      <th>4</th>\n",
       "      <td>1999</td>\n",
       "      <td>1</td>\n",
       "      <td>1</td>\n",
       "      <td>8</td>\n",
       "      <td>2</td>\n",
       "      <td>1</td>\n",
       "      <td>1</td>\n",
       "      <td>UU</td>\n",
       "      <td>5</td>\n",
       "      <td>3</td>\n",
       "      <td>...</td>\n",
       "      <td>99</td>\n",
       "      <td>NN</td>\n",
       "      <td>NNNN</td>\n",
       "      <td>1</td>\n",
       "      <td>M</td>\n",
       "      <td>5</td>\n",
       "      <td>99</td>\n",
       "      <td>2</td>\n",
       "      <td>UU</td>\n",
       "      <td>3</td>\n",
       "    </tr>\n",
       "  </tbody>\n",
       "</table>\n",
       "<p>5 rows × 22 columns</p>\n",
       "</div>"
      ],
      "text/plain": [
       "   C_YEAR C_MNTH C_WDAY C_HOUR  C_SEV  C_VEHS C_CONF C_RCFG  C_WTHR C_RSUR  \\\n",
       "0    1999      1      1     20      2       2     34     UU       1      5   \n",
       "1    1999      1      1     20      2       2     34     UU       1      5   \n",
       "2    1999      1      1     20      2       2     34     UU       1      5   \n",
       "3    1999      1      1      8      2       1      1     UU       5      3   \n",
       "4    1999      1      1      8      2       1      1     UU       5      3   \n",
       "\n",
       "   ...   V_ID V_TYPE V_YEAR P_ID P_SEX P_AGE P_PSN  P_ISEV P_SAFE P_USER  \n",
       "0  ...      1      6   1990    1     M    41    11       1     UU      1  \n",
       "1  ...      2      1   1987    1     M    19    11       1     UU      1  \n",
       "2  ...      2      1   1987    2     F    20    13       2      2      2  \n",
       "3  ...      1      1   1986    1     M    46    11       1     UU      1  \n",
       "4  ...     99     NN   NNNN    1     M     5    99       2     UU      3  \n",
       "\n",
       "[5 rows x 22 columns]"
      ]
     },
     "execution_count": 48,
     "metadata": {},
     "output_type": "execute_result"
    }
   ],
   "source": [
    "df = pd.read_csv('project.csv')\n",
    "\n",
    "df.head()\n"
   ]
  },
  {
   "cell_type": "code",
   "execution_count": 49,
   "metadata": {},
   "outputs": [
    {
     "data": {
      "text/html": [
       "<div>\n",
       "<style scoped>\n",
       "    .dataframe tbody tr th:only-of-type {\n",
       "        vertical-align: middle;\n",
       "    }\n",
       "\n",
       "    .dataframe tbody tr th {\n",
       "        vertical-align: top;\n",
       "    }\n",
       "\n",
       "    .dataframe thead th {\n",
       "        text-align: right;\n",
       "    }\n",
       "</style>\n",
       "<table border=\"1\" class=\"dataframe\">\n",
       "  <thead>\n",
       "    <tr style=\"text-align: right;\">\n",
       "      <th></th>\n",
       "      <th>C_YEAR</th>\n",
       "      <th>C_MNTH</th>\n",
       "      <th>C_WDAY</th>\n",
       "      <th>C_HOUR</th>\n",
       "      <th>C_SEV</th>\n",
       "      <th>C_VEHS</th>\n",
       "      <th>C_CONF</th>\n",
       "      <th>C_RCFG</th>\n",
       "      <th>C_WTHR</th>\n",
       "      <th>C_RSUR</th>\n",
       "      <th>...</th>\n",
       "      <th>V_ID</th>\n",
       "      <th>V_TYPE</th>\n",
       "      <th>V_YEAR</th>\n",
       "      <th>P_ID</th>\n",
       "      <th>P_SEX</th>\n",
       "      <th>P_AGE</th>\n",
       "      <th>P_PSN</th>\n",
       "      <th>P_ISEV</th>\n",
       "      <th>P_SAFE</th>\n",
       "      <th>P_USER</th>\n",
       "    </tr>\n",
       "  </thead>\n",
       "  <tbody>\n",
       "    <tr>\n",
       "      <th>1048570</th>\n",
       "      <td>2001</td>\n",
       "      <td>7</td>\n",
       "      <td>5</td>\n",
       "      <td>15</td>\n",
       "      <td>2</td>\n",
       "      <td>2</td>\n",
       "      <td>36</td>\n",
       "      <td>2</td>\n",
       "      <td>1</td>\n",
       "      <td>1</td>\n",
       "      <td>...</td>\n",
       "      <td>2</td>\n",
       "      <td>1</td>\n",
       "      <td>1994</td>\n",
       "      <td>2</td>\n",
       "      <td>M</td>\n",
       "      <td>23</td>\n",
       "      <td>13</td>\n",
       "      <td>1</td>\n",
       "      <td>2</td>\n",
       "      <td>2</td>\n",
       "    </tr>\n",
       "    <tr>\n",
       "      <th>1048571</th>\n",
       "      <td>2001</td>\n",
       "      <td>7</td>\n",
       "      <td>5</td>\n",
       "      <td>16</td>\n",
       "      <td>2</td>\n",
       "      <td>2</td>\n",
       "      <td>35</td>\n",
       "      <td>1</td>\n",
       "      <td>1</td>\n",
       "      <td>1</td>\n",
       "      <td>...</td>\n",
       "      <td>1</td>\n",
       "      <td>1</td>\n",
       "      <td>1994</td>\n",
       "      <td>1</td>\n",
       "      <td>M</td>\n",
       "      <td>49</td>\n",
       "      <td>11</td>\n",
       "      <td>1</td>\n",
       "      <td>2</td>\n",
       "      <td>1</td>\n",
       "    </tr>\n",
       "    <tr>\n",
       "      <th>1048572</th>\n",
       "      <td>2001</td>\n",
       "      <td>7</td>\n",
       "      <td>5</td>\n",
       "      <td>16</td>\n",
       "      <td>2</td>\n",
       "      <td>2</td>\n",
       "      <td>35</td>\n",
       "      <td>1</td>\n",
       "      <td>1</td>\n",
       "      <td>1</td>\n",
       "      <td>...</td>\n",
       "      <td>1</td>\n",
       "      <td>1</td>\n",
       "      <td>1994</td>\n",
       "      <td>2</td>\n",
       "      <td>M</td>\n",
       "      <td>40</td>\n",
       "      <td>13</td>\n",
       "      <td>1</td>\n",
       "      <td>2</td>\n",
       "      <td>2</td>\n",
       "    </tr>\n",
       "    <tr>\n",
       "      <th>1048573</th>\n",
       "      <td>2001</td>\n",
       "      <td>7</td>\n",
       "      <td>5</td>\n",
       "      <td>16</td>\n",
       "      <td>2</td>\n",
       "      <td>2</td>\n",
       "      <td>35</td>\n",
       "      <td>1</td>\n",
       "      <td>1</td>\n",
       "      <td>1</td>\n",
       "      <td>...</td>\n",
       "      <td>2</td>\n",
       "      <td>14</td>\n",
       "      <td>1983</td>\n",
       "      <td>1</td>\n",
       "      <td>F</td>\n",
       "      <td>33</td>\n",
       "      <td>11</td>\n",
       "      <td>2</td>\n",
       "      <td>9</td>\n",
       "      <td>5</td>\n",
       "    </tr>\n",
       "    <tr>\n",
       "      <th>1048574</th>\n",
       "      <td>2001</td>\n",
       "      <td>7</td>\n",
       "      <td>5</td>\n",
       "      <td>11</td>\n",
       "      <td>2</td>\n",
       "      <td>2</td>\n",
       "      <td>21</td>\n",
       "      <td>1</td>\n",
       "      <td>1</td>\n",
       "      <td>1</td>\n",
       "      <td>...</td>\n",
       "      <td>1</td>\n",
       "      <td>1</td>\n",
       "      <td>1997</td>\n",
       "      <td>1</td>\n",
       "      <td>F</td>\n",
       "      <td>46</td>\n",
       "      <td>11</td>\n",
       "      <td>1</td>\n",
       "      <td>2</td>\n",
       "      <td>1</td>\n",
       "    </tr>\n",
       "  </tbody>\n",
       "</table>\n",
       "<p>5 rows × 22 columns</p>\n",
       "</div>"
      ],
      "text/plain": [
       "         C_YEAR C_MNTH C_WDAY C_HOUR  C_SEV  C_VEHS C_CONF C_RCFG  C_WTHR  \\\n",
       "1048570    2001      7      5     15      2       2     36      2       1   \n",
       "1048571    2001      7      5     16      2       2     35      1       1   \n",
       "1048572    2001      7      5     16      2       2     35      1       1   \n",
       "1048573    2001      7      5     16      2       2     35      1       1   \n",
       "1048574    2001      7      5     11      2       2     21      1       1   \n",
       "\n",
       "        C_RSUR  ...   V_ID V_TYPE V_YEAR P_ID P_SEX P_AGE P_PSN  P_ISEV  \\\n",
       "1048570      1  ...      2      1   1994    2     M    23    13       1   \n",
       "1048571      1  ...      1      1   1994    1     M    49    11       1   \n",
       "1048572      1  ...      1      1   1994    2     M    40    13       1   \n",
       "1048573      1  ...      2     14   1983    1     F    33    11       2   \n",
       "1048574      1  ...      1      1   1997    1     F    46    11       1   \n",
       "\n",
       "        P_SAFE P_USER  \n",
       "1048570      2      2  \n",
       "1048571      2      1  \n",
       "1048572      2      2  \n",
       "1048573      9      5  \n",
       "1048574      2      1  \n",
       "\n",
       "[5 rows x 22 columns]"
      ]
     },
     "execution_count": 49,
     "metadata": {},
     "output_type": "execute_result"
    }
   ],
   "source": [
    "df.tail()"
   ]
  },
  {
   "cell_type": "markdown",
   "metadata": {},
   "source": [
    "# Clustering"
   ]
  },
  {
   "cell_type": "markdown",
   "metadata": {},
   "source": [
    "## I am using the number of car crashes and weather"
   ]
  },
  {
   "cell_type": "markdown",
   "metadata": {},
   "source": [
    "### C_Weather\n",
    "#### Code      Description \n",
    "#### 1         Clear and sunny\n",
    "#### 2         Overcast, cloudy but no precipitation\n",
    "#### 3         Raining\n",
    "#### 4         Snowing, not including drifting snow\n",
    "#### 5         Freezing rain, sleet, hail\n",
    "#### 6         Visibility limitation e.g. drifting snow, fog, smog, dust, smoke, mist\n",
    "#### 7         Strong wind\n",
    "#### 8        Choice is other than the preceding values\n",
    "#### 9         Unknown\n",
    "#### 10         Jurisdiction does not provide this data element"
   ]
  },
  {
   "cell_type": "markdown",
   "metadata": {},
   "source": [
    "### K-Means Clustering"
   ]
  },
  {
   "cell_type": "markdown",
   "metadata": {},
   "source": [
    "### I am using two variable named as C_VEHS and C_WTHR"
   ]
  },
  {
   "cell_type": "code",
   "execution_count": 50,
   "metadata": {},
   "outputs": [
    {
     "data": {
      "text/html": [
       "<div>\n",
       "<style scoped>\n",
       "    .dataframe tbody tr th:only-of-type {\n",
       "        vertical-align: middle;\n",
       "    }\n",
       "\n",
       "    .dataframe tbody tr th {\n",
       "        vertical-align: top;\n",
       "    }\n",
       "\n",
       "    .dataframe thead th {\n",
       "        text-align: right;\n",
       "    }\n",
       "</style>\n",
       "<table border=\"1\" class=\"dataframe\">\n",
       "  <thead>\n",
       "    <tr style=\"text-align: right;\">\n",
       "      <th></th>\n",
       "      <th>C_VEHS</th>\n",
       "      <th>C_WTHR</th>\n",
       "    </tr>\n",
       "  </thead>\n",
       "  <tbody>\n",
       "    <tr>\n",
       "      <th>0</th>\n",
       "      <td>2</td>\n",
       "      <td>1</td>\n",
       "    </tr>\n",
       "    <tr>\n",
       "      <th>1</th>\n",
       "      <td>2</td>\n",
       "      <td>1</td>\n",
       "    </tr>\n",
       "    <tr>\n",
       "      <th>2</th>\n",
       "      <td>2</td>\n",
       "      <td>1</td>\n",
       "    </tr>\n",
       "    <tr>\n",
       "      <th>3</th>\n",
       "      <td>1</td>\n",
       "      <td>5</td>\n",
       "    </tr>\n",
       "    <tr>\n",
       "      <th>4</th>\n",
       "      <td>1</td>\n",
       "      <td>5</td>\n",
       "    </tr>\n",
       "  </tbody>\n",
       "</table>\n",
       "</div>"
      ],
      "text/plain": [
       "   C_VEHS  C_WTHR\n",
       "0       2       1\n",
       "1       2       1\n",
       "2       2       1\n",
       "3       1       5\n",
       "4       1       5"
      ]
     },
     "execution_count": 50,
     "metadata": {},
     "output_type": "execute_result"
    }
   ],
   "source": [
    "df = df[['C_VEHS', 'C_WTHR']]\n",
    "df.head()"
   ]
  },
  {
   "cell_type": "markdown",
   "metadata": {},
   "source": [
    "### Scaling the features of the data set used"
   ]
  },
  {
   "cell_type": "code",
   "execution_count": 51,
   "metadata": {},
   "outputs": [
    {
     "name": "stdout",
     "output_type": "stream",
     "text": [
      "           C_VEHS    C_WTHR\n",
      "0       -0.016831 -0.499929\n",
      "1       -0.016831 -0.499929\n",
      "2       -0.016831 -0.499929\n",
      "3       -0.099927  2.331857\n",
      "4       -0.099927  2.331857\n",
      "5        0.066265 -0.499929\n",
      "6        0.066265 -0.499929\n",
      "7        0.066265 -0.499929\n",
      "8        0.066265 -0.499929\n",
      "9       -0.099927 -0.499929\n",
      "10      -0.099927 -0.499929\n",
      "11      -0.016831  0.915964\n",
      "12      -0.016831  0.915964\n",
      "13      -0.099927 -0.499929\n",
      "14      -0.099927 -0.499929\n",
      "15      -0.016831 -0.499929\n",
      "16      -0.016831 -0.499929\n",
      "17      -0.016831 -0.499929\n",
      "18      -0.016831 -0.499929\n",
      "19      -0.016831 -0.499929\n",
      "20      -0.016831 -0.499929\n",
      "21      -0.016831 -0.499929\n",
      "22      -0.016831 -0.499929\n",
      "23      -0.016831 -0.499929\n",
      "24      -0.016831 -0.499929\n",
      "25      -0.016831 -0.499929\n",
      "26      -0.016831 -0.499929\n",
      "27      -0.016831 -0.499929\n",
      "28      -0.099927  0.915964\n",
      "29      -0.016831 -0.499929\n",
      "...           ...       ...\n",
      "1048545 -0.016831 -0.499929\n",
      "1048546 -0.016831 -0.499929\n",
      "1048547 -0.016831 -0.499929\n",
      "1048548 -0.099927 -0.499929\n",
      "1048549 -0.099927 -0.499929\n",
      "1048550 -0.099927 -0.499929\n",
      "1048551 -0.016831 -0.499929\n",
      "1048552 -0.016831 -0.499929\n",
      "1048553 -0.016831 -0.499929\n",
      "1048554 -0.016831 -0.499929\n",
      "1048555 -0.016831 -0.499929\n",
      "1048556 -0.016831 -0.499929\n",
      "1048557 -0.016831 -0.499929\n",
      "1048558 -0.016831 -0.499929\n",
      "1048559 -0.016831 -0.499929\n",
      "1048560 -0.016831 -0.499929\n",
      "1048561 -0.016831 -0.499929\n",
      "1048562 -0.016831 -0.499929\n",
      "1048563 -0.016831 -0.499929\n",
      "1048564 -0.016831 -0.499929\n",
      "1048565 -0.016831 -0.499929\n",
      "1048566 -0.016831 -0.499929\n",
      "1048567 -0.016831 -0.499929\n",
      "1048568 -0.016831 -0.499929\n",
      "1048569 -0.016831 -0.499929\n",
      "1048570 -0.016831 -0.499929\n",
      "1048571 -0.016831 -0.499929\n",
      "1048572 -0.016831 -0.499929\n",
      "1048573 -0.016831 -0.499929\n",
      "1048574 -0.016831 -0.499929\n",
      "\n",
      "[1048575 rows x 2 columns]\n"
     ]
    }
   ],
   "source": [
    "df = pd.DataFrame(scale(df), index=df.index, columns=df.columns)\n",
    "print (df)"
   ]
  },
  {
   "cell_type": "markdown",
   "metadata": {},
   "source": [
    "### Scatter Plot C_VEHS vs C_WTHR"
   ]
  },
  {
   "cell_type": "code",
   "execution_count": 52,
   "metadata": {},
   "outputs": [
    {
     "data": {
      "image/png": "[encoded data removed]",
      "text/plain": [
       "<Figure size 432x288 with 1 Axes>"
      ]
     },
     "metadata": {},
     "output_type": "display_data"
    }
   ],
   "source": [
    "plt.figure()\n",
    "plt.scatter(df['C_VEHS'], df['C_WTHR'] )\n",
    "plt.show()"
   ]
  },
  {
   "cell_type": "markdown",
   "metadata": {},
   "source": [
    "### K-means with K = 2"
   ]
  },
  {
   "cell_type": "code",
   "execution_count": 53,
   "metadata": {},
   "outputs": [
    {
     "data": {
      "text/plain": [
       "KMeans(algorithm='auto', copy_x=True, init='k-means++', max_iter=300,\n",
       "    n_clusters=2, n_init=20, n_jobs=1, precompute_distances='auto',\n",
       "    random_state=None, tol=0.0001, verbose=0)"
      ]
     },
     "execution_count": 53,
     "metadata": {},
     "output_type": "execute_result"
    }
   ],
   "source": [
    "k1 = KMeans(n_clusters=2, n_init=20)\n",
    "k1.fit(df)"
   ]
  },
  {
   "cell_type": "code",
   "execution_count": 54,
   "metadata": {},
   "outputs": [
    {
     "data": {
      "text/plain": [
       "array([0, 0, 0, ..., 0, 0, 0], dtype=int32)"
      ]
     },
     "execution_count": 54,
     "metadata": {},
     "output_type": "execute_result"
    }
   ],
   "source": [
    "k1.labels_"
   ]
  },
  {
   "cell_type": "code",
   "execution_count": 91,
   "metadata": {},
   "outputs": [
    {
     "data": {
      "text/plain": [
       "0    1048424\n",
       "1        151\n",
       "dtype: int64"
      ]
     },
     "execution_count": 91,
     "metadata": {},
     "output_type": "execute_result"
    }
   ],
   "source": [
    "pd.Series(k1.labels_).value_counts()"
   ]
  },
  {
   "cell_type": "markdown",
   "metadata": {},
   "source": [
    "### K = 3"
   ]
  },
  {
   "cell_type": "code",
   "execution_count": 55,
   "metadata": {},
   "outputs": [
    {
     "data": {
      "text/plain": [
       "KMeans(algorithm='auto', copy_x=True, init='k-means++', max_iter=300,\n",
       "    n_clusters=3, n_init=20, n_jobs=1, precompute_distances='auto',\n",
       "    random_state=None, tol=0.0001, verbose=0)"
      ]
     },
     "execution_count": 55,
     "metadata": {},
     "output_type": "execute_result"
    }
   ],
   "source": [
    "np.random.seed(4)\n",
    "km2 = KMeans(n_clusters=3, n_init=20)\n",
    "km2.fit(df)"
   ]
  },
  {
   "cell_type": "code",
   "execution_count": 56,
   "metadata": {},
   "outputs": [
    {
     "data": {
      "text/plain": [
       "0    838570\n",
       "2    209854\n",
       "1       151\n",
       "dtype: int64"
      ]
     },
     "execution_count": 56,
     "metadata": {},
     "output_type": "execute_result"
    }
   ],
   "source": [
    "pd.Series(km2.labels_).value_counts()"
   ]
  },
  {
   "cell_type": "code",
   "execution_count": 57,
   "metadata": {},
   "outputs": [
    {
     "data": {
      "text/plain": [
       "array([[-1.28639773e-02, -4.12303022e-01],\n",
       "       [ 8.29132361e+01,  6.34660680e-01],\n",
       "       [-8.25599307e-03,  1.64709327e+00]])"
      ]
     },
     "execution_count": 57,
     "metadata": {},
     "output_type": "execute_result"
    }
   ],
   "source": [
    "km2.cluster_centers_"
   ]
  },
  {
   "cell_type": "code",
   "execution_count": 58,
   "metadata": {},
   "outputs": [
    {
     "data": {
      "text/plain": [
       "array([0, 0, 0, ..., 0, 0, 0], dtype=int32)"
      ]
     },
     "execution_count": 58,
     "metadata": {},
     "output_type": "execute_result"
    }
   ],
   "source": [
    "km2.labels_"
   ]
  },
  {
   "cell_type": "markdown",
   "metadata": {},
   "source": [
    "### It is just summing up the nearest clusters samples"
   ]
  },
  {
   "cell_type": "code",
   "execution_count": 59,
   "metadata": {},
   "outputs": [
    {
     "data": {
      "text/plain": [
       "347002.7822911671"
      ]
     },
     "execution_count": 59,
     "metadata": {},
     "output_type": "execute_result"
    }
   ],
   "source": [
    "km2.inertia_"
   ]
  },
  {
   "cell_type": "code",
   "execution_count": 60,
   "metadata": {},
   "outputs": [
    {
     "data": {
      "image/png": "[encoded data removed]",
      "text/plain": [
       "<Figure size 1008x360 with 2 Axes>"
      ]
     },
     "metadata": {},
     "output_type": "display_data"
    }
   ],
   "source": [
    "fig, (ax1, ax2) = plt.subplots(1,2, figsize=(14,5))\n",
    "\n",
    "ax1.scatter(df['C_VEHS'], df['C_WTHR'], s=40, c=k1.labels_, cmap=plt.cm.prism) \n",
    "ax1.set_title('K-Means Clustering Results with K=2')\n",
    "ax1.scatter(k1.cluster_centers_[:,0], k1.cluster_centers_[:,1], marker='+', s=100, c='k', linewidth=2)\n",
    "\n",
    "ax2.scatter(df['C_VEHS'], df['C_WTHR'], s=40, c=km2.labels_, cmap=plt.cm.prism) \n",
    "ax2.set_title('K-Means Clustering Results with K=3')\n",
    "ax2.scatter(km2.cluster_centers_[:,0], km2.cluster_centers_[:,1], marker='+', s=100, c='k', linewidth=2);"
   ]
  },
  {
   "cell_type": "markdown",
   "metadata": {},
   "source": [
    "## Logistic Regression"
   ]
  },
  {
   "cell_type": "markdown",
   "metadata": {},
   "source": [
    "### For Logistic and Linear Regression I have used the knowlegde and material that I have covered in COMP381 class."
   ]
  },
  {
   "cell_type": "code",
   "execution_count": 61,
   "metadata": {},
   "outputs": [],
   "source": [
    "\n",
    "import pandas as pd\n",
    "import numpy as np\n",
    "import matplotlib.pyplot as plt\n",
    "\n",
    "from sklearn.linear_model import LogisticRegression\n",
    "from sklearn.metrics import confusion_matrix, accuracy_score, precision_recall_fscore_support, roc_auc_score\n",
    "from sklearn.preprocessing import LabelEncoder\n",
    "\n",
    "%matplotlib inline\n",
    "plt.style.use('seaborn-white')"
   ]
  },
  {
   "cell_type": "code",
   "execution_count": 62,
   "metadata": {},
   "outputs": [
    {
     "name": "stderr",
     "output_type": "stream",
     "text": [
      "/opt/anaconda2/envs/py36/lib/python3.6/site-packages/IPython/core/interactiveshell.py:2785: DtypeWarning: Columns (1,2,12) have mixed types. Specify dtype option on import or set low_memory=False.\n",
      "  interactivity=interactivity, compiler=compiler, result=result)\n"
     ]
    },
    {
     "data": {
      "text/html": [
       "<div>\n",
       "<style scoped>\n",
       "    .dataframe tbody tr th:only-of-type {\n",
       "        vertical-align: middle;\n",
       "    }\n",
       "\n",
       "    .dataframe tbody tr th {\n",
       "        vertical-align: top;\n",
       "    }\n",
       "\n",
       "    .dataframe thead th {\n",
       "        text-align: right;\n",
       "    }\n",
       "</style>\n",
       "<table border=\"1\" class=\"dataframe\">\n",
       "  <thead>\n",
       "    <tr style=\"text-align: right;\">\n",
       "      <th></th>\n",
       "      <th>C_YEAR</th>\n",
       "      <th>C_MNTH</th>\n",
       "      <th>C_WDAY</th>\n",
       "      <th>C_HOUR</th>\n",
       "      <th>C_SEV</th>\n",
       "      <th>C_VEHS</th>\n",
       "      <th>C_CONF</th>\n",
       "      <th>C_RCFG</th>\n",
       "      <th>C_WTHR</th>\n",
       "      <th>C_RSUR</th>\n",
       "      <th>...</th>\n",
       "      <th>V_ID</th>\n",
       "      <th>V_TYPE</th>\n",
       "      <th>V_YEAR</th>\n",
       "      <th>P_ID</th>\n",
       "      <th>P_SEX</th>\n",
       "      <th>P_AGE</th>\n",
       "      <th>P_PSN</th>\n",
       "      <th>P_ISEV</th>\n",
       "      <th>P_SAFE</th>\n",
       "      <th>P_USER</th>\n",
       "    </tr>\n",
       "  </thead>\n",
       "  <tbody>\n",
       "    <tr>\n",
       "      <th>0</th>\n",
       "      <td>1999</td>\n",
       "      <td>1</td>\n",
       "      <td>1</td>\n",
       "      <td>20</td>\n",
       "      <td>2</td>\n",
       "      <td>2</td>\n",
       "      <td>34</td>\n",
       "      <td>UU</td>\n",
       "      <td>1</td>\n",
       "      <td>5</td>\n",
       "      <td>...</td>\n",
       "      <td>1</td>\n",
       "      <td>6</td>\n",
       "      <td>1990</td>\n",
       "      <td>1</td>\n",
       "      <td>M</td>\n",
       "      <td>41</td>\n",
       "      <td>11</td>\n",
       "      <td>1</td>\n",
       "      <td>UU</td>\n",
       "      <td>1</td>\n",
       "    </tr>\n",
       "    <tr>\n",
       "      <th>1</th>\n",
       "      <td>1999</td>\n",
       "      <td>1</td>\n",
       "      <td>1</td>\n",
       "      <td>20</td>\n",
       "      <td>2</td>\n",
       "      <td>2</td>\n",
       "      <td>34</td>\n",
       "      <td>UU</td>\n",
       "      <td>1</td>\n",
       "      <td>5</td>\n",
       "      <td>...</td>\n",
       "      <td>2</td>\n",
       "      <td>1</td>\n",
       "      <td>1987</td>\n",
       "      <td>1</td>\n",
       "      <td>M</td>\n",
       "      <td>19</td>\n",
       "      <td>11</td>\n",
       "      <td>1</td>\n",
       "      <td>UU</td>\n",
       "      <td>1</td>\n",
       "    </tr>\n",
       "    <tr>\n",
       "      <th>2</th>\n",
       "      <td>1999</td>\n",
       "      <td>1</td>\n",
       "      <td>1</td>\n",
       "      <td>20</td>\n",
       "      <td>2</td>\n",
       "      <td>2</td>\n",
       "      <td>34</td>\n",
       "      <td>UU</td>\n",
       "      <td>1</td>\n",
       "      <td>5</td>\n",
       "      <td>...</td>\n",
       "      <td>2</td>\n",
       "      <td>1</td>\n",
       "      <td>1987</td>\n",
       "      <td>2</td>\n",
       "      <td>F</td>\n",
       "      <td>20</td>\n",
       "      <td>13</td>\n",
       "      <td>2</td>\n",
       "      <td>2</td>\n",
       "      <td>2</td>\n",
       "    </tr>\n",
       "    <tr>\n",
       "      <th>3</th>\n",
       "      <td>1999</td>\n",
       "      <td>1</td>\n",
       "      <td>1</td>\n",
       "      <td>8</td>\n",
       "      <td>2</td>\n",
       "      <td>1</td>\n",
       "      <td>1</td>\n",
       "      <td>UU</td>\n",
       "      <td>5</td>\n",
       "      <td>3</td>\n",
       "      <td>...</td>\n",
       "      <td>1</td>\n",
       "      <td>1</td>\n",
       "      <td>1986</td>\n",
       "      <td>1</td>\n",
       "      <td>M</td>\n",
       "      <td>46</td>\n",
       "      <td>11</td>\n",
       "      <td>1</td>\n",
       "      <td>UU</td>\n",
       "      <td>1</td>\n",
       "    </tr>\n",
       "    <tr>\n",
       "      <th>4</th>\n",
       "      <td>1999</td>\n",
       "      <td>1</td>\n",
       "      <td>1</td>\n",
       "      <td>8</td>\n",
       "      <td>2</td>\n",
       "      <td>1</td>\n",
       "      <td>1</td>\n",
       "      <td>UU</td>\n",
       "      <td>5</td>\n",
       "      <td>3</td>\n",
       "      <td>...</td>\n",
       "      <td>99</td>\n",
       "      <td>NN</td>\n",
       "      <td>NNNN</td>\n",
       "      <td>1</td>\n",
       "      <td>M</td>\n",
       "      <td>5</td>\n",
       "      <td>99</td>\n",
       "      <td>2</td>\n",
       "      <td>UU</td>\n",
       "      <td>3</td>\n",
       "    </tr>\n",
       "  </tbody>\n",
       "</table>\n",
       "<p>5 rows × 22 columns</p>\n",
       "</div>"
      ],
      "text/plain": [
       "   C_YEAR C_MNTH C_WDAY C_HOUR  C_SEV  C_VEHS C_CONF C_RCFG  C_WTHR C_RSUR  \\\n",
       "0    1999      1      1     20      2       2     34     UU       1      5   \n",
       "1    1999      1      1     20      2       2     34     UU       1      5   \n",
       "2    1999      1      1     20      2       2     34     UU       1      5   \n",
       "3    1999      1      1      8      2       1      1     UU       5      3   \n",
       "4    1999      1      1      8      2       1      1     UU       5      3   \n",
       "\n",
       "   ...   V_ID V_TYPE V_YEAR P_ID P_SEX P_AGE P_PSN  P_ISEV P_SAFE P_USER  \n",
       "0  ...      1      6   1990    1     M    41    11       1     UU      1  \n",
       "1  ...      2      1   1987    1     M    19    11       1     UU      1  \n",
       "2  ...      2      1   1987    2     F    20    13       2      2      2  \n",
       "3  ...      1      1   1986    1     M    46    11       1     UU      1  \n",
       "4  ...     99     NN   NNNN    1     M     5    99       2     UU      3  \n",
       "\n",
       "[5 rows x 22 columns]"
      ]
     },
     "execution_count": 62,
     "metadata": {},
     "output_type": "execute_result"
    }
   ],
   "source": [
    "project = pd.read_csv('project.csv')\n",
    "project.head()"
   ]
  },
  {
   "cell_type": "markdown",
   "metadata": {},
   "source": [
    "### Training data"
   ]
  },
  {
   "cell_type": "code",
   "execution_count": 63,
   "metadata": {},
   "outputs": [
    {
     "data": {
      "text/plain": [
       "LogisticRegression(C=1.0, class_weight=None, dual=False, fit_intercept=True,\n",
       "          intercept_scaling=1, max_iter=100, multi_class='ovr', n_jobs=1,\n",
       "          penalty='l2', random_state=None, solver='liblinear', tol=0.0001,\n",
       "          verbose=0, warm_start=False)"
      ]
     },
     "execution_count": 63,
     "metadata": {},
     "output_type": "execute_result"
    }
   ],
   "source": [
    "proejct_train = smarket[0:52287]\n",
    "\n",
    "X_train = proejct_train[['C_VEHS','C_WTHR']]\n",
    "y_train = proejct_train['P_AGE']\n",
    "\n",
    "\n",
    "logreg = LogisticRegression()\n",
    "logreg.fit(X_train, y_train)"
   ]
  },
  {
   "cell_type": "markdown",
   "metadata": {},
   "source": [
    "### Coefficients for the both data sets"
   ]
  },
  {
   "cell_type": "code",
   "execution_count": 64,
   "metadata": {},
   "outputs": [
    {
     "name": "stdout",
     "output_type": "stream",
     "text": [
      "['C_VEHS' 'C_WTHR']\n",
      "[[-1.10527949e-01  3.42838142e-02]\n",
      " [-9.19012687e-02 -6.58907017e-02]\n",
      " [-1.50525205e-01 -8.11784479e-04]\n",
      " [-8.50709143e-02 -1.20872271e-02]\n",
      " [-1.53881417e-01 -2.30825843e-02]\n",
      " [-2.86061541e-01 -1.57207783e-02]\n",
      " [-3.78539033e-01  2.24019537e-03]\n",
      " [-2.66675863e-01 -7.83722370e-02]\n",
      " [-3.96962472e-01 -1.97801751e-01]\n",
      " [-1.26048741e-01 -1.54685921e-02]\n",
      " [-3.75928277e-01  1.63914356e-04]\n",
      " [-4.11800786e-01 -2.81361250e-02]\n",
      " [-5.01468175e-01 -3.28655976e-03]\n",
      " [-6.91899172e-01 -2.11322425e-02]\n",
      " [-5.61219057e-01 -3.79901500e-02]\n",
      " [-4.41048812e-01 -8.92775062e-03]\n",
      " [-2.93961665e-01 -3.54673664e-02]\n",
      " [-1.88199485e-01 -1.19592618e-02]\n",
      " [-1.51549349e-01 -1.85230635e-02]\n",
      " [-7.04400329e-02 -2.55141646e-02]\n",
      " [-7.10700939e-02  1.13051143e-02]\n",
      " [-6.55451421e-02  2.38449591e-02]\n",
      " [-3.45556628e-03  1.86792886e-02]\n",
      " [-1.00732948e-02  7.87422256e-03]\n",
      " [ 2.02242802e-03 -5.82212169e-03]\n",
      " [-6.21004609e-03 -1.04915033e-02]\n",
      " [-1.60508874e-03  2.25871869e-02]\n",
      " [ 2.15286512e-03  1.81405798e-02]\n",
      " [-1.40092533e-03  3.03980591e-02]\n",
      " [-4.43566283e-04  1.52526588e-02]\n",
      " [-2.80411182e-03  1.66948156e-02]\n",
      " [-1.63870111e-03  1.29784437e-02]\n",
      " [-1.43851273e-03  3.77786996e-04]\n",
      " [-1.62956672e-03  1.73816564e-02]\n",
      " [-2.67384270e-03  1.22970650e-02]\n",
      " [-8.10987005e-04  1.26287577e-02]\n",
      " [-1.16998452e-03  3.60536852e-02]\n",
      " [-1.34795280e-03  3.63145491e-02]\n",
      " [-1.20212178e-03  1.73712277e-02]\n",
      " [-2.60180135e-03 -1.17454131e-03]\n",
      " [-7.99798631e-04  3.59570539e-02]\n",
      " [-3.81807078e-04 -6.57984279e-03]\n",
      " [-1.26735249e-03  1.67152367e-02]\n",
      " [-7.05982450e-04 -5.44409818e-03]\n",
      " [-5.42962586e-03 -1.61593977e-03]\n",
      " [-3.54224539e-03  2.46856122e-02]\n",
      " [ 2.46837235e-03  1.68077894e-02]\n",
      " [-1.48010353e-03 -3.95445058e-02]\n",
      " [-1.03218514e-03 -1.87602516e-02]\n",
      " [-4.01305380e-04  5.81446599e-03]\n",
      " [ 2.58608918e-03 -1.39146551e-02]\n",
      " [-1.30300865e-03  2.83689142e-02]\n",
      " [-2.87498993e-02  3.08493850e-02]\n",
      " [-3.37014400e-03 -4.45285042e-02]\n",
      " [-2.63362113e-03 -1.01927576e-01]\n",
      " [-7.18169224e-02 -5.17115431e-03]\n",
      " [-2.28745594e-03 -2.87803907e-02]\n",
      " [-9.44885757e-02 -2.65221195e-02]\n",
      " [-3.10333810e-03 -1.33013323e-02]\n",
      " [-2.52812673e-03 -3.31149249e-02]\n",
      " [-6.19098899e-02 -1.24029244e-02]\n",
      " [-2.44105090e-01 -3.36685748e-02]\n",
      " [-7.12395304e-03 -1.05684892e-01]\n",
      " [-8.39119214e-02 -1.70692737e-01]\n",
      " [-3.80060460e-03 -4.57684433e-02]\n",
      " [-1.32267228e-01  1.75515764e-02]\n",
      " [-1.66669636e-01 -3.59540665e-02]\n",
      " [-6.66915095e-04 -9.93732471e-02]\n",
      " [-9.76209434e-02 -1.21254666e-02]\n",
      " [-1.16708307e-01 -1.50012010e-01]\n",
      " [-1.91846241e-01 -1.80478531e-01]\n",
      " [-2.07305401e-01 -8.36936041e-02]\n",
      " [-5.74770125e-02 -7.51757335e-02]\n",
      " [-2.61031472e-01 -1.35242237e-01]\n",
      " [-3.89155702e-01 -1.04615995e-01]\n",
      " [-1.47682968e-01 -2.10177571e-01]\n",
      " [-3.49661433e-01 -1.70547749e-01]\n",
      " [-2.57174325e-01 -1.27146336e-01]\n",
      " [ 4.18591162e-03 -2.07622957e-01]\n",
      " [-1.44705972e-01 -2.11987361e-01]\n",
      " [-4.33779130e-01 -3.25028929e-01]\n",
      " [-7.62931589e-01 -2.32606586e-01]\n",
      " [-5.14238591e-01 -2.91298306e-01]\n",
      " [-1.05826601e+00 -4.17012391e-01]\n",
      " [-9.86772897e-01 -4.63272545e-01]\n",
      " [-6.40576233e-01 -2.58837171e-01]\n",
      " [-9.79203484e-01 -4.42167558e-01]\n",
      " [-8.23690248e-01 -4.85466806e-01]\n",
      " [-1.04130419e+00 -9.29034529e-01]\n",
      " [-1.62265827e+00 -5.56194818e-01]\n",
      " [-1.55568946e+00 -8.73538782e-01]\n",
      " [-1.97789907e-01 -3.37471210e+00]\n",
      " [-2.86587525e+00 -1.38768140e+00]\n",
      " [-2.06540434e+00 -2.81098963e+00]\n",
      " [-2.62952443e+00 -1.13662773e+00]\n",
      " [-2.89564520e+00 -2.37184392e+00]\n",
      " [-2.45426925e+00 -2.59619105e+00]\n",
      " [ 1.86946319e-03  3.08349763e-03]]\n"
     ]
    }
   ],
   "source": [
    "print(X_train.columns.values)\n",
    "print(logreg.coef_)"
   ]
  },
  {
   "cell_type": "markdown",
   "metadata": {},
   "source": [
    "### Testing data"
   ]
  },
  {
   "cell_type": "code",
   "execution_count": 65,
   "metadata": {},
   "outputs": [
    {
     "name": "stdout",
     "output_type": "stream",
     "text": [
      "[  1   2   3   4   5   6   7   8   9  10  11  12  13  14  15  16  17  18\n",
      "  19  20  21  22  23  24  25  26  27  28  29  30  31  32  33  34  35  36\n",
      "  37  38  39  40  41  42  43  44  45  46  47  48  49  50  51  52  53  54\n",
      "  55  56  57  58  59  60  61  62  63  64  65  66  67  68  69  70  71  72\n",
      "  73  74  75  76  77  78  79  80  81  82  83  84  85  86  87  88  89  90\n",
      "  91  92  93  94  95  97  99 100]\n",
      "[[    0     0     0 ...     0     0  5642]\n",
      " [    0     0     0 ...     0     0  4502]\n",
      " [    0     0     0 ...     0     0  4685]\n",
      " ...\n",
      " [    0     0     0 ...     0     0    40]\n",
      " [    0     0     0 ...     0     0    35]\n",
      " [    0     0     0 ...     0     0 61603]]\n",
      "accuracy is:  0.06183258438582457\n"
     ]
    }
   ],
   "source": [
    "project_test = project[52287:1048574]\n",
    "\n",
    "X_test = project_test[[ 'C_VEHS','C_WTHR']]\n",
    "y_test = project_test['P_AGE']\n",
    "\n",
    "\n",
    "preds = logreg.predict(X_test)\n",
    "conf = confusion_matrix(y_test, preds)\n",
    "print(logreg.classes_)\n",
    "print(conf)\n",
    "\n",
    "acc = accuracy_score(y_test, preds)\n",
    "print('accuracy is: ', acc)"
   ]
  },
  {
   "cell_type": "markdown",
   "metadata": {},
   "source": [
    "### Probabilty predications"
   ]
  },
  {
   "cell_type": "code",
   "execution_count": 124,
   "metadata": {},
   "outputs": [
    {
     "name": "stdout",
     "output_type": "stream",
     "text": [
      "[False  True]\n",
      "[[515943   1357]\n",
      " [     0   6988]]\n",
      "accuracy is:  0.9974117279052734\n"
     ]
    }
   ],
   "source": [
    "preds = logreg.predict_proba(X_test)\n",
    "classes = logreg.classes_\n",
    "\n",
    "threshold = 0.9\n",
    "newpreds = []\n",
    "for p in preds:\n",
    "    if p[0] > threshold:\n",
    "        newpreds.append(classes[0])\n",
    "    else:\n",
    "        newpreds.append(classes[1])\n",
    "\n",
    "print(logreg.classes_)        \n",
    "conf = confusion_matrix(y_test, newpreds)\n",
    "print(conf)\n",
    "\n",
    "acc = accuracy_score(y_test, newpreds)\n",
    "print('accuracy is: ', acc)"
   ]
  },
  {
   "cell_type": "code",
   "execution_count": 112,
   "metadata": {},
   "outputs": [
    {
     "name": "stdout",
     "output_type": "stream",
     "text": [
      "[False  True]\n",
      "[[517300      0]\n",
      " [     0   6988]]\n",
      "accuracy is:  1.0\n"
     ]
    }
   ],
   "source": [
    "threshold = 0.5\n",
    "\n",
    "newpreds = []\n",
    "for p in preds:\n",
    "    if p[0] > threshold:\n",
    "        newpreds.append(classes[0])\n",
    "    else:\n",
    "        newpreds.append(classes[1])\n",
    "\n",
    "print(logreg.classes_)        \n",
    "conf = confusion_matrix(y_test, newpreds)\n",
    "print(conf)\n",
    "\n",
    "acc = accuracy_score(y_test, newpreds)\n",
    "print('accuracy is: ', acc)"
   ]
  },
  {
   "cell_type": "code",
   "execution_count": 115,
   "metadata": {},
   "outputs": [
    {
     "name": "stderr",
     "output_type": "stream",
     "text": [
      "/opt/anaconda2/envs/py36/lib/python3.6/site-packages/sklearn/metrics/classification.py:1045: UserWarning: Note that pos_label (set to 'Yes') is ignored when average != 'binary' (got 'micro'). You may use labels=[pos_label] to specify a single positive class.\n",
      "  % (pos_label, average), UserWarning)\n"
     ]
    },
    {
     "data": {
      "text/plain": [
       "(1.0, 1.0, 1.0, None)"
      ]
     },
     "execution_count": 115,
     "metadata": {},
     "output_type": "execute_result"
    }
   ],
   "source": [
    "precision_recall_fscore_support(y_test, newpreds, pos_label='Yes', average='micro')"
   ]
  },
  {
   "cell_type": "code",
   "execution_count": 116,
   "metadata": {},
   "outputs": [
    {
     "name": "stdout",
     "output_type": "stream",
     "text": [
      "1.0\n"
     ]
    }
   ],
   "source": [
    "p_pred = [p[0] for p in preds] # probability of the positive class\n",
    "pos_class = logreg.classes_[0]\n",
    "\n",
    "# convert class labels to True or False\n",
    "newlabs = (y_test == pos_class)\n",
    "\n",
    "\n",
    "auc = roc_auc_score(newlabs, p_pred)\n",
    "print(auc)"
   ]
  },
  {
   "cell_type": "markdown",
   "metadata": {},
   "source": [
    "## Linear Regression"
   ]
  },
  {
   "cell_type": "code",
   "execution_count": 69,
   "metadata": {},
   "outputs": [
    {
     "name": "stderr",
     "output_type": "stream",
     "text": [
      "/opt/anaconda2/envs/py36/lib/python3.6/site-packages/IPython/core/interactiveshell.py:2785: DtypeWarning: Columns (1,2,12) have mixed types. Specify dtype option on import or set low_memory=False.\n",
      "  interactivity=interactivity, compiler=compiler, result=result)\n"
     ]
    },
    {
     "data": {
      "text/html": [
       "<div>\n",
       "<style scoped>\n",
       "    .dataframe tbody tr th:only-of-type {\n",
       "        vertical-align: middle;\n",
       "    }\n",
       "\n",
       "    .dataframe tbody tr th {\n",
       "        vertical-align: top;\n",
       "    }\n",
       "\n",
       "    .dataframe thead th {\n",
       "        text-align: right;\n",
       "    }\n",
       "</style>\n",
       "<table border=\"1\" class=\"dataframe\">\n",
       "  <thead>\n",
       "    <tr style=\"text-align: right;\">\n",
       "      <th></th>\n",
       "      <th>C_YEAR</th>\n",
       "      <th>C_MNTH</th>\n",
       "      <th>C_WDAY</th>\n",
       "      <th>C_HOUR</th>\n",
       "      <th>C_SEV</th>\n",
       "      <th>C_VEHS</th>\n",
       "      <th>C_CONF</th>\n",
       "      <th>C_RCFG</th>\n",
       "      <th>C_WTHR</th>\n",
       "      <th>C_RSUR</th>\n",
       "      <th>...</th>\n",
       "      <th>V_ID</th>\n",
       "      <th>V_TYPE</th>\n",
       "      <th>V_YEAR</th>\n",
       "      <th>P_ID</th>\n",
       "      <th>P_SEX</th>\n",
       "      <th>P_AGE</th>\n",
       "      <th>P_PSN</th>\n",
       "      <th>P_ISEV</th>\n",
       "      <th>P_SAFE</th>\n",
       "      <th>P_USER</th>\n",
       "    </tr>\n",
       "  </thead>\n",
       "  <tbody>\n",
       "    <tr>\n",
       "      <th>0</th>\n",
       "      <td>1999</td>\n",
       "      <td>1</td>\n",
       "      <td>1</td>\n",
       "      <td>20</td>\n",
       "      <td>2</td>\n",
       "      <td>2</td>\n",
       "      <td>34</td>\n",
       "      <td>UU</td>\n",
       "      <td>1</td>\n",
       "      <td>5</td>\n",
       "      <td>...</td>\n",
       "      <td>1</td>\n",
       "      <td>6</td>\n",
       "      <td>1990</td>\n",
       "      <td>1</td>\n",
       "      <td>M</td>\n",
       "      <td>41</td>\n",
       "      <td>11</td>\n",
       "      <td>1</td>\n",
       "      <td>UU</td>\n",
       "      <td>1</td>\n",
       "    </tr>\n",
       "    <tr>\n",
       "      <th>1</th>\n",
       "      <td>1999</td>\n",
       "      <td>1</td>\n",
       "      <td>1</td>\n",
       "      <td>20</td>\n",
       "      <td>2</td>\n",
       "      <td>2</td>\n",
       "      <td>34</td>\n",
       "      <td>UU</td>\n",
       "      <td>1</td>\n",
       "      <td>5</td>\n",
       "      <td>...</td>\n",
       "      <td>2</td>\n",
       "      <td>1</td>\n",
       "      <td>1987</td>\n",
       "      <td>1</td>\n",
       "      <td>M</td>\n",
       "      <td>19</td>\n",
       "      <td>11</td>\n",
       "      <td>1</td>\n",
       "      <td>UU</td>\n",
       "      <td>1</td>\n",
       "    </tr>\n",
       "    <tr>\n",
       "      <th>2</th>\n",
       "      <td>1999</td>\n",
       "      <td>1</td>\n",
       "      <td>1</td>\n",
       "      <td>20</td>\n",
       "      <td>2</td>\n",
       "      <td>2</td>\n",
       "      <td>34</td>\n",
       "      <td>UU</td>\n",
       "      <td>1</td>\n",
       "      <td>5</td>\n",
       "      <td>...</td>\n",
       "      <td>2</td>\n",
       "      <td>1</td>\n",
       "      <td>1987</td>\n",
       "      <td>2</td>\n",
       "      <td>F</td>\n",
       "      <td>20</td>\n",
       "      <td>13</td>\n",
       "      <td>2</td>\n",
       "      <td>2</td>\n",
       "      <td>2</td>\n",
       "    </tr>\n",
       "    <tr>\n",
       "      <th>3</th>\n",
       "      <td>1999</td>\n",
       "      <td>1</td>\n",
       "      <td>1</td>\n",
       "      <td>8</td>\n",
       "      <td>2</td>\n",
       "      <td>1</td>\n",
       "      <td>1</td>\n",
       "      <td>UU</td>\n",
       "      <td>5</td>\n",
       "      <td>3</td>\n",
       "      <td>...</td>\n",
       "      <td>1</td>\n",
       "      <td>1</td>\n",
       "      <td>1986</td>\n",
       "      <td>1</td>\n",
       "      <td>M</td>\n",
       "      <td>46</td>\n",
       "      <td>11</td>\n",
       "      <td>1</td>\n",
       "      <td>UU</td>\n",
       "      <td>1</td>\n",
       "    </tr>\n",
       "    <tr>\n",
       "      <th>4</th>\n",
       "      <td>1999</td>\n",
       "      <td>1</td>\n",
       "      <td>1</td>\n",
       "      <td>8</td>\n",
       "      <td>2</td>\n",
       "      <td>1</td>\n",
       "      <td>1</td>\n",
       "      <td>UU</td>\n",
       "      <td>5</td>\n",
       "      <td>3</td>\n",
       "      <td>...</td>\n",
       "      <td>99</td>\n",
       "      <td>NN</td>\n",
       "      <td>NNNN</td>\n",
       "      <td>1</td>\n",
       "      <td>M</td>\n",
       "      <td>5</td>\n",
       "      <td>99</td>\n",
       "      <td>2</td>\n",
       "      <td>UU</td>\n",
       "      <td>3</td>\n",
       "    </tr>\n",
       "  </tbody>\n",
       "</table>\n",
       "<p>5 rows × 22 columns</p>\n",
       "</div>"
      ],
      "text/plain": [
       "   C_YEAR C_MNTH C_WDAY C_HOUR  C_SEV  C_VEHS C_CONF C_RCFG  C_WTHR C_RSUR  \\\n",
       "0    1999      1      1     20      2       2     34     UU       1      5   \n",
       "1    1999      1      1     20      2       2     34     UU       1      5   \n",
       "2    1999      1      1     20      2       2     34     UU       1      5   \n",
       "3    1999      1      1      8      2       1      1     UU       5      3   \n",
       "4    1999      1      1      8      2       1      1     UU       5      3   \n",
       "\n",
       "   ...   V_ID V_TYPE V_YEAR P_ID P_SEX P_AGE P_PSN  P_ISEV P_SAFE P_USER  \n",
       "0  ...      1      6   1990    1     M    41    11       1     UU      1  \n",
       "1  ...      2      1   1987    1     M    19    11       1     UU      1  \n",
       "2  ...      2      1   1987    2     F    20    13       2      2      2  \n",
       "3  ...      1      1   1986    1     M    46    11       1     UU      1  \n",
       "4  ...     99     NN   NNNN    1     M     5    99       2     UU      3  \n",
       "\n",
       "[5 rows x 22 columns]"
      ]
     },
     "execution_count": 69,
     "metadata": {},
     "output_type": "execute_result"
    }
   ],
   "source": [
    "import pandas as pd\n",
    "import numpy as np\n",
    "import matplotlib.pyplot as plt\n",
    "\n",
    "from sklearn.preprocessing import scale\n",
    "from sklearn.linear_model import LinearRegression\n",
    "from sklearn.metrics import mean_squared_error, r2_score\n",
    "project = pd.read_csv('project.csv')\n",
    "project.head()\n",
    "\n"
   ]
  },
  {
   "cell_type": "markdown",
   "metadata": {},
   "source": [
    "### Single Linear Regression"
   ]
  },
  {
   "cell_type": "markdown",
   "metadata": {},
   "source": [
    "### I am using C_VEHS to  predict the C_WTHR"
   ]
  },
  {
   "cell_type": "code",
   "execution_count": 70,
   "metadata": {},
   "outputs": [
    {
     "data": {
      "text/plain": [
       "LinearRegression(copy_X=True, fit_intercept=True, n_jobs=1, normalize=False)"
      ]
     },
     "execution_count": 70,
     "metadata": {},
     "output_type": "execute_result"
    }
   ],
   "source": [
    "linmod = LinearRegression()\n",
    "X = project['C_VEHS'].values[:, np.newaxis]\n",
    "\n",
    "y = project['C_WTHR']\n",
    "\n",
    "linmod.fit(X,y)"
   ]
  },
  {
   "cell_type": "code",
   "execution_count": 71,
   "metadata": {},
   "outputs": [],
   "source": [
    "X_train = X[0:52287]\n",
    "X_test = X[52287:]\n",
    "\n",
    "y_train = y[0:52287]\n",
    "y_test = y[52287:]"
   ]
  },
  {
   "cell_type": "code",
   "execution_count": 72,
   "metadata": {},
   "outputs": [
    {
     "data": {
      "text/plain": [
       "LinearRegression(copy_X=True, fit_intercept=True, n_jobs=1, normalize=False)"
      ]
     },
     "execution_count": 72,
     "metadata": {},
     "output_type": "execute_result"
    }
   ],
   "source": [
    "linmod2 = LinearRegression()\n",
    "linmod2.fit(X_train, y_train)\n"
   ]
  },
  {
   "cell_type": "code",
   "execution_count": 73,
   "metadata": {},
   "outputs": [
    {
     "name": "stdout",
     "output_type": "stream",
     "text": [
      "1.7038209670196154\n",
      "[0.00106555]\n"
     ]
    }
   ],
   "source": [
    "print(linmod.intercept_)\n",
    "print(linmod.coef_)"
   ]
  },
  {
   "cell_type": "code",
   "execution_count": null,
   "metadata": {},
   "outputs": [],
   "source": []
  },
  {
   "cell_type": "markdown",
   "metadata": {},
   "source": [
    "### I am making predications and R-Squared"
   ]
  },
  {
   "cell_type": "code",
   "execution_count": 74,
   "metadata": {},
   "outputs": [
    {
     "name": "stdout",
     "output_type": "stream",
     "text": [
      "8.241145390108784e-05\n"
     ]
    }
   ],
   "source": [
    "preds = linmod.predict(X)\n",
    "rs = r2_score(y, preds)\n",
    "print(rs)"
   ]
  },
  {
   "cell_type": "code",
   "execution_count": 75,
   "metadata": {},
   "outputs": [
    {
     "data": {
      "image/png": "[encoded data removed]",
      "text/plain": [
       "<Figure size 432x288 with 1 Axes>"
      ]
     },
     "metadata": {},
     "output_type": "display_data"
    }
   ],
   "source": [
    "plt.scatter(X, y,color='g')\n",
    "plt.plot(X, preds,color='k')\n",
    "plt.xlabel('C_VEHS')\n",
    "plt.ylabel('C_WTHR')\n",
    "plt.show()"
   ]
  },
  {
   "cell_type": "code",
   "execution_count": 76,
   "metadata": {},
   "outputs": [
    {
     "name": "stdout",
     "output_type": "stream",
     "text": [
      "[1.70595207 1.70595207 1.70595207 ... 1.70595207 1.70595207 1.70595207]\n"
     ]
    }
   ],
   "source": [
    "preds = linmod.predict(X_test)\n",
    "print(preds)\n",
    "\n"
   ]
  },
  {
   "cell_type": "code",
   "execution_count": null,
   "metadata": {},
   "outputs": [],
   "source": []
  },
  {
   "cell_type": "code",
   "execution_count": 77,
   "metadata": {},
   "outputs": [
    {
     "name": "stdout",
     "output_type": "stream",
     "text": [
      "1.936123179660111\n"
     ]
    }
   ],
   "source": [
    "mse = mean_squared_error(y_test, preds)\n",
    "print(mse)\n"
   ]
  },
  {
   "cell_type": "markdown",
   "metadata": {},
   "source": [
    "### Comparing the value of predicted and actual value of Y"
   ]
  },
  {
   "cell_type": "code",
   "execution_count": 78,
   "metadata": {},
   "outputs": [
    {
     "data": {
      "image/png": "[encoded data removed]",
      "text/plain": [
       "<Figure size 432x288 with 1 Axes>"
      ]
     },
     "metadata": {},
     "output_type": "display_data"
    }
   ],
   "source": [
    "plt.scatter(y_test, preds,color='g')\n",
    "plt.xlabel(\"Actual y Value\")\n",
    "plt.ylabel(\"Predicted y Value\")\n",
    "plt.show()"
   ]
  },
  {
   "cell_type": "markdown",
   "metadata": {},
   "source": [
    "## Neural Networks"
   ]
  },
  {
   "cell_type": "code",
   "execution_count": 79,
   "metadata": {},
   "outputs": [
    {
     "name": "stderr",
     "output_type": "stream",
     "text": [
      "/opt/anaconda2/envs/py36/lib/python3.6/site-packages/sklearn/cross_validation.py:41: DeprecationWarning: This module was deprecated in version 0.18 in favor of the model_selection module into which all the refactored classes and functions are moved. Also note that the interface of the new CV iterators are different from that of this module. This module will be removed in 0.20.\n",
      "  \"This module will be removed in 0.20.\", DeprecationWarning)\n",
      "/opt/anaconda2/envs/py36/lib/python3.6/site-packages/sklearn/ensemble/weight_boosting.py:29: DeprecationWarning: numpy.core.umath_tests is an internal NumPy module and should not be imported. It will be removed in a future NumPy release.\n",
      "  from numpy.core.umath_tests import inner1d\n"
     ]
    }
   ],
   "source": [
    "import pandas as pd\n",
    "import numpy as np\n",
    "import matplotlib as mpl\n",
    "import matplotlib.pyplot as plt\n",
    "\n",
    "from sklearn.cross_validation import train_test_split\n",
    "from sklearn.neural_network import MLPClassifier\n",
    "from sklearn.ensemble import GradientBoostingClassifier\n",
    "from sklearn.linear_model import Perceptron, LogisticRegression\n",
    "from sklearn.metrics import confusion_matrix, mean_squared_error, precision_recall_fscore_support, accuracy_score\n",
    "\n",
    "%matplotlib inline"
   ]
  },
  {
   "cell_type": "markdown",
   "metadata": {},
   "source": [
    "#### In this I am creating a new value for the C_WTHR, I am looking if the C_WTHR has a value greater than 8, it will print true else false"
   ]
  },
  {
   "cell_type": "code",
   "execution_count": 80,
   "metadata": {},
   "outputs": [
    {
     "name": "stderr",
     "output_type": "stream",
     "text": [
      "/opt/anaconda2/envs/py36/lib/python3.6/site-packages/IPython/core/interactiveshell.py:2785: DtypeWarning: Columns (1,2,12) have mixed types. Specify dtype option on import or set low_memory=False.\n",
      "  interactivity=interactivity, compiler=compiler, result=result)\n"
     ]
    },
    {
     "data": {
      "text/html": [
       "<div>\n",
       "<style scoped>\n",
       "    .dataframe tbody tr th:only-of-type {\n",
       "        vertical-align: middle;\n",
       "    }\n",
       "\n",
       "    .dataframe tbody tr th {\n",
       "        vertical-align: top;\n",
       "    }\n",
       "\n",
       "    .dataframe thead th {\n",
       "        text-align: right;\n",
       "    }\n",
       "</style>\n",
       "<table border=\"1\" class=\"dataframe\">\n",
       "  <thead>\n",
       "    <tr style=\"text-align: right;\">\n",
       "      <th></th>\n",
       "      <th>C_YEAR</th>\n",
       "      <th>C_MNTH</th>\n",
       "      <th>C_WDAY</th>\n",
       "      <th>C_HOUR</th>\n",
       "      <th>C_SEV</th>\n",
       "      <th>C_VEHS</th>\n",
       "      <th>C_CONF</th>\n",
       "      <th>C_RCFG</th>\n",
       "      <th>C_WTHR</th>\n",
       "      <th>C_RSUR</th>\n",
       "      <th>...</th>\n",
       "      <th>V_TYPE</th>\n",
       "      <th>V_YEAR</th>\n",
       "      <th>P_ID</th>\n",
       "      <th>P_SEX</th>\n",
       "      <th>P_AGE</th>\n",
       "      <th>P_PSN</th>\n",
       "      <th>P_ISEV</th>\n",
       "      <th>P_SAFE</th>\n",
       "      <th>P_USER</th>\n",
       "      <th>High</th>\n",
       "    </tr>\n",
       "  </thead>\n",
       "  <tbody>\n",
       "    <tr>\n",
       "      <th>0</th>\n",
       "      <td>1999</td>\n",
       "      <td>NaN</td>\n",
       "      <td>1</td>\n",
       "      <td>20</td>\n",
       "      <td>2</td>\n",
       "      <td>2</td>\n",
       "      <td>34</td>\n",
       "      <td>UU</td>\n",
       "      <td>1</td>\n",
       "      <td>5</td>\n",
       "      <td>...</td>\n",
       "      <td>6</td>\n",
       "      <td>1990</td>\n",
       "      <td>1</td>\n",
       "      <td>M</td>\n",
       "      <td>41</td>\n",
       "      <td>11</td>\n",
       "      <td>1</td>\n",
       "      <td>UU</td>\n",
       "      <td>1</td>\n",
       "      <td>False</td>\n",
       "    </tr>\n",
       "    <tr>\n",
       "      <th>1</th>\n",
       "      <td>1999</td>\n",
       "      <td>NaN</td>\n",
       "      <td>1</td>\n",
       "      <td>20</td>\n",
       "      <td>2</td>\n",
       "      <td>2</td>\n",
       "      <td>34</td>\n",
       "      <td>UU</td>\n",
       "      <td>1</td>\n",
       "      <td>5</td>\n",
       "      <td>...</td>\n",
       "      <td>1</td>\n",
       "      <td>1987</td>\n",
       "      <td>1</td>\n",
       "      <td>M</td>\n",
       "      <td>19</td>\n",
       "      <td>11</td>\n",
       "      <td>1</td>\n",
       "      <td>UU</td>\n",
       "      <td>1</td>\n",
       "      <td>False</td>\n",
       "    </tr>\n",
       "    <tr>\n",
       "      <th>2</th>\n",
       "      <td>1999</td>\n",
       "      <td>NaN</td>\n",
       "      <td>1</td>\n",
       "      <td>20</td>\n",
       "      <td>2</td>\n",
       "      <td>2</td>\n",
       "      <td>34</td>\n",
       "      <td>UU</td>\n",
       "      <td>1</td>\n",
       "      <td>5</td>\n",
       "      <td>...</td>\n",
       "      <td>1</td>\n",
       "      <td>1987</td>\n",
       "      <td>2</td>\n",
       "      <td>F</td>\n",
       "      <td>20</td>\n",
       "      <td>13</td>\n",
       "      <td>2</td>\n",
       "      <td>2</td>\n",
       "      <td>2</td>\n",
       "      <td>False</td>\n",
       "    </tr>\n",
       "    <tr>\n",
       "      <th>3</th>\n",
       "      <td>1999</td>\n",
       "      <td>NaN</td>\n",
       "      <td>1</td>\n",
       "      <td>8</td>\n",
       "      <td>2</td>\n",
       "      <td>1</td>\n",
       "      <td>1</td>\n",
       "      <td>UU</td>\n",
       "      <td>5</td>\n",
       "      <td>3</td>\n",
       "      <td>...</td>\n",
       "      <td>1</td>\n",
       "      <td>1986</td>\n",
       "      <td>1</td>\n",
       "      <td>M</td>\n",
       "      <td>46</td>\n",
       "      <td>11</td>\n",
       "      <td>1</td>\n",
       "      <td>UU</td>\n",
       "      <td>1</td>\n",
       "      <td>False</td>\n",
       "    </tr>\n",
       "    <tr>\n",
       "      <th>4</th>\n",
       "      <td>1999</td>\n",
       "      <td>NaN</td>\n",
       "      <td>1</td>\n",
       "      <td>8</td>\n",
       "      <td>2</td>\n",
       "      <td>1</td>\n",
       "      <td>1</td>\n",
       "      <td>UU</td>\n",
       "      <td>5</td>\n",
       "      <td>3</td>\n",
       "      <td>...</td>\n",
       "      <td>NN</td>\n",
       "      <td>NNNN</td>\n",
       "      <td>1</td>\n",
       "      <td>M</td>\n",
       "      <td>5</td>\n",
       "      <td>99</td>\n",
       "      <td>2</td>\n",
       "      <td>UU</td>\n",
       "      <td>3</td>\n",
       "      <td>False</td>\n",
       "    </tr>\n",
       "  </tbody>\n",
       "</table>\n",
       "<p>5 rows × 23 columns</p>\n",
       "</div>"
      ],
      "text/plain": [
       "   C_YEAR  C_MNTH C_WDAY C_HOUR  C_SEV  C_VEHS C_CONF C_RCFG  C_WTHR C_RSUR  \\\n",
       "0    1999     NaN      1     20      2       2     34     UU       1      5   \n",
       "1    1999     NaN      1     20      2       2     34     UU       1      5   \n",
       "2    1999     NaN      1     20      2       2     34     UU       1      5   \n",
       "3    1999     NaN      1      8      2       1      1     UU       5      3   \n",
       "4    1999     NaN      1      8      2       1      1     UU       5      3   \n",
       "\n",
       "   ...   V_TYPE V_YEAR P_ID P_SEX P_AGE P_PSN P_ISEV  P_SAFE P_USER   High  \n",
       "0  ...        6   1990    1     M    41    11      1      UU      1  False  \n",
       "1  ...        1   1987    1     M    19    11      1      UU      1  False  \n",
       "2  ...        1   1987    2     F    20    13      2       2      2  False  \n",
       "3  ...        1   1986    1     M    46    11      1      UU      1  False  \n",
       "4  ...       NN   NNNN    1     M     5    99      2      UU      3  False  \n",
       "\n",
       "[5 rows x 23 columns]"
      ]
     },
     "execution_count": 80,
     "metadata": {},
     "output_type": "execute_result"
    }
   ],
   "source": [
    "df = pd.read_csv('project.csv')\n",
    "df['High'] = df['C_WTHR'] > 8\n",
    "df.C_MNTH= df.C_MNTH.map({'No':0, 'Yes':1})\n",
    "df.head()"
   ]
  },
  {
   "cell_type": "markdown",
   "metadata": {},
   "source": [
    "#### Here I am randommly dividing the data into 50% as training data"
   ]
  },
  {
   "cell_type": "code",
   "execution_count": 81,
   "metadata": {},
   "outputs": [],
   "source": [
    "X = df.drop(['C_MNTH', 'C_WDAY' , 'High', 'C_HOUR', 'C_SEV', 'C_CONF', 'C_RCFG', 'C_RSUR', 'C_RALN', 'C_TRAF', 'V_ID', 'V_TYPE', 'V_YEAR', 'P_ID', 'P_SEX', 'P_PSN', 'P_ISEV', 'P_SAFE', 'P_USER'], axis=1)\n",
    "y = df.High\n",
    "\n",
    "\n",
    "X_train, X_test, y_train, y_test = train_test_split(X, y, train_size=0.5, random_state=1)"
   ]
  },
  {
   "cell_type": "code",
   "execution_count": 82,
   "metadata": {},
   "outputs": [
    {
     "data": {
      "text/html": [
       "<div>\n",
       "<style scoped>\n",
       "    .dataframe tbody tr th:only-of-type {\n",
       "        vertical-align: middle;\n",
       "    }\n",
       "\n",
       "    .dataframe tbody tr th {\n",
       "        vertical-align: top;\n",
       "    }\n",
       "\n",
       "    .dataframe thead th {\n",
       "        text-align: right;\n",
       "    }\n",
       "</style>\n",
       "<table border=\"1\" class=\"dataframe\">\n",
       "  <thead>\n",
       "    <tr style=\"text-align: right;\">\n",
       "      <th></th>\n",
       "      <th>C_YEAR</th>\n",
       "      <th>C_VEHS</th>\n",
       "      <th>C_WTHR</th>\n",
       "      <th>P_AGE</th>\n",
       "    </tr>\n",
       "  </thead>\n",
       "  <tbody>\n",
       "    <tr>\n",
       "      <th>0</th>\n",
       "      <td>1999</td>\n",
       "      <td>2</td>\n",
       "      <td>1</td>\n",
       "      <td>41</td>\n",
       "    </tr>\n",
       "    <tr>\n",
       "      <th>1</th>\n",
       "      <td>1999</td>\n",
       "      <td>2</td>\n",
       "      <td>1</td>\n",
       "      <td>19</td>\n",
       "    </tr>\n",
       "    <tr>\n",
       "      <th>2</th>\n",
       "      <td>1999</td>\n",
       "      <td>2</td>\n",
       "      <td>1</td>\n",
       "      <td>20</td>\n",
       "    </tr>\n",
       "    <tr>\n",
       "      <th>3</th>\n",
       "      <td>1999</td>\n",
       "      <td>1</td>\n",
       "      <td>5</td>\n",
       "      <td>46</td>\n",
       "    </tr>\n",
       "    <tr>\n",
       "      <th>4</th>\n",
       "      <td>1999</td>\n",
       "      <td>1</td>\n",
       "      <td>5</td>\n",
       "      <td>5</td>\n",
       "    </tr>\n",
       "  </tbody>\n",
       "</table>\n",
       "</div>"
      ],
      "text/plain": [
       "   C_YEAR  C_VEHS  C_WTHR  P_AGE\n",
       "0    1999       2       1     41\n",
       "1    1999       2       1     19\n",
       "2    1999       2       1     20\n",
       "3    1999       1       5     46\n",
       "4    1999       1       5      5"
      ]
     },
     "execution_count": 82,
     "metadata": {},
     "output_type": "execute_result"
    }
   ],
   "source": [
    "X.head()"
   ]
  },
  {
   "cell_type": "code",
   "execution_count": 83,
   "metadata": {},
   "outputs": [],
   "source": [
    "nn = MLPClassifier(hidden_layer_sizes=(10,10), max_iter=1000, activation='relu', random_state=1)\n",
    "perc = Perceptron(penalty='l1', random_state=1, max_iter=1000, shuffle=True)\n",
    "logreg = LogisticRegression()\n",
    "gb = GradientBoostingClassifier(random_state=1)"
   ]
  },
  {
   "cell_type": "code",
   "execution_count": 84,
   "metadata": {},
   "outputs": [
    {
     "data": {
      "text/plain": [
       "GradientBoostingClassifier(criterion='friedman_mse', init=None,\n",
       "              learning_rate=0.1, loss='deviance', max_depth=3,\n",
       "              max_features=None, max_leaf_nodes=None,\n",
       "              min_impurity_decrease=0.0, min_impurity_split=None,\n",
       "              min_samples_leaf=1, min_samples_split=2,\n",
       "              min_weight_fraction_leaf=0.0, n_estimators=100,\n",
       "              presort='auto', random_state=1, subsample=1.0, verbose=0,\n",
       "              warm_start=False)"
      ]
     },
     "execution_count": 84,
     "metadata": {},
     "output_type": "execute_result"
    }
   ],
   "source": [
    "nn.fit(X_train, y_train)\n",
    "perc.fit(X_train, y_train)\n",
    "logreg.fit(X_train, y_train)\n",
    "gb.fit(X_train, y_train)"
   ]
  },
  {
   "cell_type": "markdown",
   "metadata": {},
   "source": [
    "### Confusion marix based on the predications"
   ]
  },
  {
   "cell_type": "code",
   "execution_count": 85,
   "metadata": {},
   "outputs": [],
   "source": [
    "preds_nn = nn.predict(X_test)\n",
    "preds_perc = perc.predict(X_test)\n",
    "preds_logreg = logreg.predict(X_test)\n",
    "preds_gb = gb.predict(X_test)"
   ]
  },
  {
   "cell_type": "code",
   "execution_count": 86,
   "metadata": {},
   "outputs": [
    {
     "name": "stdout",
     "output_type": "stream",
     "text": [
      "Using Neural Network:\n",
      "\n",
      "         No   Yes\n",
      "No   517233     0\n",
      "Yes      67  6988\n",
      "\n",
      "Accuracy is: 0.9998722076416016\n"
     ]
    }
   ],
   "source": [
    "cm_nn = pd.DataFrame(confusion_matrix(y_test, preds_nn).T, index=['No', 'Yes'], columns=['No', 'Yes'])\n",
    "print(\"Using Neural Network:\\n\")\n",
    "print(cm_nn)\n",
    "\n",
    "tree_acc = accuracy_score(y_test, preds_nn)\n",
    "print('\\nAccuracy is: %s' % tree_acc)"
   ]
  },
  {
   "cell_type": "code",
   "execution_count": 87,
   "metadata": {},
   "outputs": [
    {
     "name": "stdout",
     "output_type": "stream",
     "text": [
      "Using the Perceptron:\n",
      "\n",
      "         No   Yes\n",
      "No   517243     0\n",
      "Yes      57  6988\n",
      "\n",
      "Accuracy is: 0.9998912811279297\n"
     ]
    }
   ],
   "source": [
    "cm_perc = pd.DataFrame(confusion_matrix(y_test, preds_perc).T, index=['No', 'Yes'], columns=['No', 'Yes'])\n",
    "print(\"Using the Perceptron:\\n\")\n",
    "print(cm_perc)\n",
    "\n",
    "tree_acc = accuracy_score(y_test, preds_perc)\n",
    "print('\\nAccuracy is: %s' % tree_acc)"
   ]
  },
  {
   "cell_type": "code",
   "execution_count": 88,
   "metadata": {},
   "outputs": [
    {
     "name": "stdout",
     "output_type": "stream",
     "text": [
      "Using Logistic Regression:\n",
      "\n",
      "         No   Yes\n",
      "No   517300     0\n",
      "Yes       0  6988\n",
      "\n",
      "Accuracy is: 1.0\n"
     ]
    }
   ],
   "source": [
    "cm_logreg = pd.DataFrame(confusion_matrix(y_test, preds_logreg).T, index=['No', 'Yes'], columns=['No', 'Yes'])\n",
    "print(\"Using Logistic Regression:\\n\")\n",
    "print(cm_logreg)\n",
    "\n",
    "tree_acc = accuracy_score(y_test, preds_logreg)\n",
    "print('\\nAccuracy is: %s' % tree_acc)"
   ]
  },
  {
   "cell_type": "code",
   "execution_count": 89,
   "metadata": {},
   "outputs": [
    {
     "name": "stdout",
     "output_type": "stream",
     "text": [
      "Using Logistic Regression:\n",
      "\n",
      "         No   Yes\n",
      "No   517300     0\n",
      "Yes       0  6988\n",
      "\n",
      "Accuracy is: 1.0\n"
     ]
    }
   ],
   "source": [
    "cm_gb = pd.DataFrame(confusion_matrix(y_test, preds_gb).T, index=['No', 'Yes'], columns=['No', 'Yes'])\n",
    "print(\"Using Logistic Regression:\\n\")\n",
    "print(cm_gb)\n",
    "\n",
    "tree_acc = accuracy_score(y_test, preds_gb)\n",
    "print('\\nAccuracy is: %s' % tree_acc)"
   ]
  },
  {
   "cell_type": "code",
   "execution_count": null,
   "metadata": {},
   "outputs": [],
   "source": []
  },
  {
   "cell_type": "code",
   "execution_count": null,
   "metadata": {},
   "outputs": [],
   "source": []
  },
  {
   "cell_type": "code",
   "execution_count": null,
   "metadata": {},
   "outputs": [],
   "source": []
  },
  {
   "cell_type": "code",
   "execution_count": null,
   "metadata": {},
   "outputs": [],
   "source": []
  }
 ],
 "metadata": {
  "kernelspec": {
   "display_name": "Python 3",
   "language": "python",
   "name": "python3"
  },
  "language_info": {
   "codemirror_mode": {
    "name": "ipython",
    "version": 3
   },
   "file_extension": ".py",
   "mimetype": "text/x-python",
   "name": "python",
   "nbconvert_exporter": "python",
   "pygments_lexer": "ipython3",
   "version": "3.6.6"
  }
 },
 "nbformat": 4,
 "nbformat_minor": 2
}
